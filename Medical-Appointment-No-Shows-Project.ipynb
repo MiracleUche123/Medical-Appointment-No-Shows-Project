{
 "cells": [
  {
   "cell_type": "markdown",
   "id": "28ca8ed4",
   "metadata": {},
   "source": [
    "> \n",
    "\n",
    "# Project: Medical Appointment \"No Shows\" \n",
    "\n",
    "## Content\n",
    "<ul>\n",
    "<li><a href=\"#intro\">Introduction</a></li>\n",
    "<li><a href=\"#wrangling\">Data Wrangling</a></li>\n",
    "<li><a href=\"#eda\">Exploratory Data Analysis</a></li>\n",
    "<li><a href=\"#conclusion\">Conclusion</a></li>\n",
    "</ul>"
   ]
  },
  {
   "cell_type": "markdown",
   "id": "35f07971",
   "metadata": {},
   "source": [
    "<a id='intro'></a>\n",
    "## Introduction\n",
    "\n",
    "> In this project, we will be studying a case of patients that have scheduled medical appointments with their physicians, who received all the necessary instructions about their appointment but failed to show up on the appointed date. We will be analysing the selected dataset to identify trends and patterns among the existing variables (independent and dependent) that may facilitate the prediction of whether a patient will show up or not for a scheduled medical appointment.\n",
    "\n",
    "> **The analysis will be tackling the following research questions:**\n",
    "> 1. Which gender showed up the more for the doctor's medical appointment? \n",
    "> 2. Did scholarships influence the attendance of patients to doctor's medical appointment?\n",
    "> 3. Did the disease type influence patients to show up for appointment?\n",
    "> 4. If true, which disease type influenced patients the most?\n",
    "> 5. Did SMS improve on patients' attendance?\n",
    "> 6. What is the relationship between the age, gender, and attendance to doctor's appointment?"
   ]
  },
  {
   "cell_type": "code",
   "execution_count": 1,
   "id": "bd4033b5",
   "metadata": {},
   "outputs": [],
   "source": [
    "#To begin, we start by importing the necessary libraries for the analysis and using our magic word (%) to ensure that our visualization is well displayed within the notebook.\n",
    "\n",
    "import numpy as np\n",
    "import pandas as pd\n",
    "import matplotlib.pyplot as plt\n",
    "import seaborn as sns\n",
    "%matplotlib inline"
   ]
  },
  {
   "cell_type": "markdown",
   "id": "8406e315",
   "metadata": {},
   "source": [
    "<a id='wrangling'></a>\n",
    "## Data Wrangling\n",
    "\n",
    "> This section of the notebook will mainly consist of the data loading and cleaning before the exploratory analysis.\n",
    "### General Properties"
   ]
  },
  {
   "cell_type": "code",
   "execution_count": 2,
   "id": "47324955",
   "metadata": {},
   "outputs": [
    {
     "data": {
      "text/html": [
       "<div>\n",
       "<style scoped>\n",
       "    .dataframe tbody tr th:only-of-type {\n",
       "        vertical-align: middle;\n",
       "    }\n",
       "\n",
       "    .dataframe tbody tr th {\n",
       "        vertical-align: top;\n",
       "    }\n",
       "\n",
       "    .dataframe thead th {\n",
       "        text-align: right;\n",
       "    }\n",
       "</style>\n",
       "<table border=\"1\" class=\"dataframe\">\n",
       "  <thead>\n",
       "    <tr style=\"text-align: right;\">\n",
       "      <th></th>\n",
       "      <th>PatientId</th>\n",
       "      <th>AppointmentID</th>\n",
       "      <th>Gender</th>\n",
       "      <th>ScheduledDay</th>\n",
       "      <th>AppointmentDay</th>\n",
       "      <th>Age</th>\n",
       "      <th>Neighbourhood</th>\n",
       "      <th>Scholarship</th>\n",
       "      <th>Hipertension</th>\n",
       "      <th>Diabetes</th>\n",
       "      <th>Alcoholism</th>\n",
       "      <th>Handcap</th>\n",
       "      <th>SMS_received</th>\n",
       "      <th>No-show</th>\n",
       "    </tr>\n",
       "  </thead>\n",
       "  <tbody>\n",
       "    <tr>\n",
       "      <th>0</th>\n",
       "      <td>2.987250e+13</td>\n",
       "      <td>5642903</td>\n",
       "      <td>F</td>\n",
       "      <td>2016-04-29T18:38:08Z</td>\n",
       "      <td>2016-04-29T00:00:00Z</td>\n",
       "      <td>62</td>\n",
       "      <td>JARDIM DA PENHA</td>\n",
       "      <td>0</td>\n",
       "      <td>1</td>\n",
       "      <td>0</td>\n",
       "      <td>0</td>\n",
       "      <td>0</td>\n",
       "      <td>0</td>\n",
       "      <td>No</td>\n",
       "    </tr>\n",
       "    <tr>\n",
       "      <th>1</th>\n",
       "      <td>5.589978e+14</td>\n",
       "      <td>5642503</td>\n",
       "      <td>M</td>\n",
       "      <td>2016-04-29T16:08:27Z</td>\n",
       "      <td>2016-04-29T00:00:00Z</td>\n",
       "      <td>56</td>\n",
       "      <td>JARDIM DA PENHA</td>\n",
       "      <td>0</td>\n",
       "      <td>0</td>\n",
       "      <td>0</td>\n",
       "      <td>0</td>\n",
       "      <td>0</td>\n",
       "      <td>0</td>\n",
       "      <td>No</td>\n",
       "    </tr>\n",
       "    <tr>\n",
       "      <th>2</th>\n",
       "      <td>4.262962e+12</td>\n",
       "      <td>5642549</td>\n",
       "      <td>F</td>\n",
       "      <td>2016-04-29T16:19:04Z</td>\n",
       "      <td>2016-04-29T00:00:00Z</td>\n",
       "      <td>62</td>\n",
       "      <td>MATA DA PRAIA</td>\n",
       "      <td>0</td>\n",
       "      <td>0</td>\n",
       "      <td>0</td>\n",
       "      <td>0</td>\n",
       "      <td>0</td>\n",
       "      <td>0</td>\n",
       "      <td>No</td>\n",
       "    </tr>\n",
       "    <tr>\n",
       "      <th>3</th>\n",
       "      <td>8.679512e+11</td>\n",
       "      <td>5642828</td>\n",
       "      <td>F</td>\n",
       "      <td>2016-04-29T17:29:31Z</td>\n",
       "      <td>2016-04-29T00:00:00Z</td>\n",
       "      <td>8</td>\n",
       "      <td>PONTAL DE CAMBURI</td>\n",
       "      <td>0</td>\n",
       "      <td>0</td>\n",
       "      <td>0</td>\n",
       "      <td>0</td>\n",
       "      <td>0</td>\n",
       "      <td>0</td>\n",
       "      <td>No</td>\n",
       "    </tr>\n",
       "    <tr>\n",
       "      <th>4</th>\n",
       "      <td>8.841186e+12</td>\n",
       "      <td>5642494</td>\n",
       "      <td>F</td>\n",
       "      <td>2016-04-29T16:07:23Z</td>\n",
       "      <td>2016-04-29T00:00:00Z</td>\n",
       "      <td>56</td>\n",
       "      <td>JARDIM DA PENHA</td>\n",
       "      <td>0</td>\n",
       "      <td>1</td>\n",
       "      <td>1</td>\n",
       "      <td>0</td>\n",
       "      <td>0</td>\n",
       "      <td>0</td>\n",
       "      <td>No</td>\n",
       "    </tr>\n",
       "  </tbody>\n",
       "</table>\n",
       "</div>"
      ],
      "text/plain": [
       "      PatientId  AppointmentID Gender          ScheduledDay  \\\n",
       "0  2.987250e+13        5642903      F  2016-04-29T18:38:08Z   \n",
       "1  5.589978e+14        5642503      M  2016-04-29T16:08:27Z   \n",
       "2  4.262962e+12        5642549      F  2016-04-29T16:19:04Z   \n",
       "3  8.679512e+11        5642828      F  2016-04-29T17:29:31Z   \n",
       "4  8.841186e+12        5642494      F  2016-04-29T16:07:23Z   \n",
       "\n",
       "         AppointmentDay  Age      Neighbourhood  Scholarship  Hipertension  \\\n",
       "0  2016-04-29T00:00:00Z   62    JARDIM DA PENHA            0             1   \n",
       "1  2016-04-29T00:00:00Z   56    JARDIM DA PENHA            0             0   \n",
       "2  2016-04-29T00:00:00Z   62      MATA DA PRAIA            0             0   \n",
       "3  2016-04-29T00:00:00Z    8  PONTAL DE CAMBURI            0             0   \n",
       "4  2016-04-29T00:00:00Z   56    JARDIM DA PENHA            0             1   \n",
       "\n",
       "   Diabetes  Alcoholism  Handcap  SMS_received No-show  \n",
       "0         0           0        0             0      No  \n",
       "1         0           0        0             0      No  \n",
       "2         0           0        0             0      No  \n",
       "3         0           0        0             0      No  \n",
       "4         1           0        0             0      No  "
      ]
     },
     "execution_count": 2,
     "metadata": {},
     "output_type": "execute_result"
    }
   ],
   "source": [
    "#Loading the csv file into jupyter notebook\n",
    "\n",
    "df_appoint = pd.read_csv('noshowappointments.csv', sep=',')\n",
    "df_appoint.head()"
   ]
  },
  {
   "cell_type": "markdown",
   "id": "6927e032",
   "metadata": {},
   "source": [
    "> From a quick look into the dataframe, we can observe the different columns present and the unique data each of them contains. Interestingly, we can also observe that the data contained in columns such as Scholarship, Hipertension, Diabetes, Alcoholism, Handcap, and SMS_received, are represented in ones (1) and zeros (0), which corresponds to true and false, respectively. In other words, 1 = true and 0 = false.\n",
    "\n",
    "> Meanwhile, we will further assess the data to understand more about the nature of the data and its properties"
   ]
  },
  {
   "cell_type": "code",
   "execution_count": 3,
   "id": "dc7d9764",
   "metadata": {
    "scrolled": true
   },
   "outputs": [
    {
     "name": "stdout",
     "output_type": "stream",
     "text": [
      "(110527, 14)\n"
     ]
    },
    {
     "data": {
      "text/html": [
       "<div>\n",
       "<style scoped>\n",
       "    .dataframe tbody tr th:only-of-type {\n",
       "        vertical-align: middle;\n",
       "    }\n",
       "\n",
       "    .dataframe tbody tr th {\n",
       "        vertical-align: top;\n",
       "    }\n",
       "\n",
       "    .dataframe thead th {\n",
       "        text-align: right;\n",
       "    }\n",
       "</style>\n",
       "<table border=\"1\" class=\"dataframe\">\n",
       "  <thead>\n",
       "    <tr style=\"text-align: right;\">\n",
       "      <th></th>\n",
       "      <th>PatientId</th>\n",
       "      <th>AppointmentID</th>\n",
       "      <th>Gender</th>\n",
       "      <th>ScheduledDay</th>\n",
       "      <th>AppointmentDay</th>\n",
       "      <th>Age</th>\n",
       "      <th>Neighbourhood</th>\n",
       "      <th>Scholarship</th>\n",
       "      <th>Hipertension</th>\n",
       "      <th>Diabetes</th>\n",
       "      <th>Alcoholism</th>\n",
       "      <th>Handcap</th>\n",
       "      <th>SMS_received</th>\n",
       "      <th>No-show</th>\n",
       "    </tr>\n",
       "  </thead>\n",
       "  <tbody>\n",
       "    <tr>\n",
       "      <th>0</th>\n",
       "      <td>2.987250e+13</td>\n",
       "      <td>5642903</td>\n",
       "      <td>F</td>\n",
       "      <td>2016-04-29T18:38:08Z</td>\n",
       "      <td>2016-04-29T00:00:00Z</td>\n",
       "      <td>62</td>\n",
       "      <td>JARDIM DA PENHA</td>\n",
       "      <td>0</td>\n",
       "      <td>1</td>\n",
       "      <td>0</td>\n",
       "      <td>0</td>\n",
       "      <td>0</td>\n",
       "      <td>0</td>\n",
       "      <td>No</td>\n",
       "    </tr>\n",
       "    <tr>\n",
       "      <th>1</th>\n",
       "      <td>5.589978e+14</td>\n",
       "      <td>5642503</td>\n",
       "      <td>M</td>\n",
       "      <td>2016-04-29T16:08:27Z</td>\n",
       "      <td>2016-04-29T00:00:00Z</td>\n",
       "      <td>56</td>\n",
       "      <td>JARDIM DA PENHA</td>\n",
       "      <td>0</td>\n",
       "      <td>0</td>\n",
       "      <td>0</td>\n",
       "      <td>0</td>\n",
       "      <td>0</td>\n",
       "      <td>0</td>\n",
       "      <td>No</td>\n",
       "    </tr>\n",
       "    <tr>\n",
       "      <th>2</th>\n",
       "      <td>4.262962e+12</td>\n",
       "      <td>5642549</td>\n",
       "      <td>F</td>\n",
       "      <td>2016-04-29T16:19:04Z</td>\n",
       "      <td>2016-04-29T00:00:00Z</td>\n",
       "      <td>62</td>\n",
       "      <td>MATA DA PRAIA</td>\n",
       "      <td>0</td>\n",
       "      <td>0</td>\n",
       "      <td>0</td>\n",
       "      <td>0</td>\n",
       "      <td>0</td>\n",
       "      <td>0</td>\n",
       "      <td>No</td>\n",
       "    </tr>\n",
       "    <tr>\n",
       "      <th>3</th>\n",
       "      <td>8.679512e+11</td>\n",
       "      <td>5642828</td>\n",
       "      <td>F</td>\n",
       "      <td>2016-04-29T17:29:31Z</td>\n",
       "      <td>2016-04-29T00:00:00Z</td>\n",
       "      <td>8</td>\n",
       "      <td>PONTAL DE CAMBURI</td>\n",
       "      <td>0</td>\n",
       "      <td>0</td>\n",
       "      <td>0</td>\n",
       "      <td>0</td>\n",
       "      <td>0</td>\n",
       "      <td>0</td>\n",
       "      <td>No</td>\n",
       "    </tr>\n",
       "    <tr>\n",
       "      <th>4</th>\n",
       "      <td>8.841186e+12</td>\n",
       "      <td>5642494</td>\n",
       "      <td>F</td>\n",
       "      <td>2016-04-29T16:07:23Z</td>\n",
       "      <td>2016-04-29T00:00:00Z</td>\n",
       "      <td>56</td>\n",
       "      <td>JARDIM DA PENHA</td>\n",
       "      <td>0</td>\n",
       "      <td>1</td>\n",
       "      <td>1</td>\n",
       "      <td>0</td>\n",
       "      <td>0</td>\n",
       "      <td>0</td>\n",
       "      <td>No</td>\n",
       "    </tr>\n",
       "  </tbody>\n",
       "</table>\n",
       "</div>"
      ],
      "text/plain": [
       "      PatientId  AppointmentID Gender          ScheduledDay  \\\n",
       "0  2.987250e+13        5642903      F  2016-04-29T18:38:08Z   \n",
       "1  5.589978e+14        5642503      M  2016-04-29T16:08:27Z   \n",
       "2  4.262962e+12        5642549      F  2016-04-29T16:19:04Z   \n",
       "3  8.679512e+11        5642828      F  2016-04-29T17:29:31Z   \n",
       "4  8.841186e+12        5642494      F  2016-04-29T16:07:23Z   \n",
       "\n",
       "         AppointmentDay  Age      Neighbourhood  Scholarship  Hipertension  \\\n",
       "0  2016-04-29T00:00:00Z   62    JARDIM DA PENHA            0             1   \n",
       "1  2016-04-29T00:00:00Z   56    JARDIM DA PENHA            0             0   \n",
       "2  2016-04-29T00:00:00Z   62      MATA DA PRAIA            0             0   \n",
       "3  2016-04-29T00:00:00Z    8  PONTAL DE CAMBURI            0             0   \n",
       "4  2016-04-29T00:00:00Z   56    JARDIM DA PENHA            0             1   \n",
       "\n",
       "   Diabetes  Alcoholism  Handcap  SMS_received No-show  \n",
       "0         0           0        0             0      No  \n",
       "1         0           0        0             0      No  \n",
       "2         0           0        0             0      No  \n",
       "3         0           0        0             0      No  \n",
       "4         1           0        0             0      No  "
      ]
     },
     "execution_count": 3,
     "metadata": {},
     "output_type": "execute_result"
    }
   ],
   "source": [
    "#Taking a quick look into the shape of the data\n",
    "\n",
    "print(df_appoint.shape)\n",
    "df_appoint.head()"
   ]
  },
  {
   "cell_type": "markdown",
   "id": "809dde9a",
   "metadata": {},
   "source": [
    "> From the shape above, we notice that the data has 110527 rows and 14 columns"
   ]
  },
  {
   "cell_type": "code",
   "execution_count": 4,
   "id": "d5a283f9",
   "metadata": {},
   "outputs": [
    {
     "data": {
      "text/plain": [
       "PatientId         0\n",
       "AppointmentID     0\n",
       "Gender            0\n",
       "ScheduledDay      0\n",
       "AppointmentDay    0\n",
       "Age               0\n",
       "Neighbourhood     0\n",
       "Scholarship       0\n",
       "Hipertension      0\n",
       "Diabetes          0\n",
       "Alcoholism        0\n",
       "Handcap           0\n",
       "SMS_received      0\n",
       "No-show           0\n",
       "dtype: int64"
      ]
     },
     "execution_count": 4,
     "metadata": {},
     "output_type": "execute_result"
    }
   ],
   "source": [
    "#Taking a quick look into the number of missing values in each column\n",
    "\n",
    "df_appoint.isnull().sum()"
   ]
  },
  {
   "cell_type": "markdown",
   "id": "4c96fc5a",
   "metadata": {},
   "source": [
    "> Here, we also notice that there are no missing values in the data set"
   ]
  },
  {
   "cell_type": "code",
   "execution_count": 5,
   "id": "cb15f953",
   "metadata": {
    "scrolled": true
   },
   "outputs": [
    {
     "name": "stdout",
     "output_type": "stream",
     "text": [
      "<class 'pandas.core.frame.DataFrame'>\n",
      "RangeIndex: 110527 entries, 0 to 110526\n",
      "Data columns (total 14 columns):\n",
      " #   Column          Non-Null Count   Dtype  \n",
      "---  ------          --------------   -----  \n",
      " 0   PatientId       110527 non-null  float64\n",
      " 1   AppointmentID   110527 non-null  int64  \n",
      " 2   Gender          110527 non-null  object \n",
      " 3   ScheduledDay    110527 non-null  object \n",
      " 4   AppointmentDay  110527 non-null  object \n",
      " 5   Age             110527 non-null  int64  \n",
      " 6   Neighbourhood   110527 non-null  object \n",
      " 7   Scholarship     110527 non-null  int64  \n",
      " 8   Hipertension    110527 non-null  int64  \n",
      " 9   Diabetes        110527 non-null  int64  \n",
      " 10  Alcoholism      110527 non-null  int64  \n",
      " 11  Handcap         110527 non-null  int64  \n",
      " 12  SMS_received    110527 non-null  int64  \n",
      " 13  No-show         110527 non-null  object \n",
      "dtypes: float64(1), int64(8), object(5)\n",
      "memory usage: 11.8+ MB\n"
     ]
    }
   ],
   "source": [
    "#We can confirm this by also taking a look at the data info, which also shows the datatypes present\n",
    "\n",
    "df_appoint.info()"
   ]
  },
  {
   "cell_type": "markdown",
   "id": "a305effa",
   "metadata": {},
   "source": [
    "> In the info above, firstly, we notice that there are no null values in each row and column. Secondly, we also notice a problem with the date function in the \"**ScheduledDay**\" and \"**AppointmentDay**\" columns, which appears as objects (string) in the datatype rather than in a date format. These will constitute part of the analysis during data cleaning. \n",
    "\n",
    "> However, let's proceed to check for possible duplicates in the dataset"
   ]
  },
  {
   "cell_type": "code",
   "execution_count": 6,
   "id": "31502aba",
   "metadata": {},
   "outputs": [
    {
     "data": {
      "text/plain": [
       "0"
      ]
     },
     "execution_count": 6,
     "metadata": {},
     "output_type": "execute_result"
    }
   ],
   "source": [
    "#Checking for the number of duplicated rows\n",
    "\n",
    "df_appoint.duplicated().sum()"
   ]
  },
  {
   "cell_type": "markdown",
   "id": "a5e31d37",
   "metadata": {},
   "source": [
    "> So, we notice that there are no duplicated rows in the dataset.\n",
    "\n",
    "> Next, we proceed to looking out the number of unique values contain in each column."
   ]
  },
  {
   "cell_type": "code",
   "execution_count": 7,
   "id": "7754c7e6",
   "metadata": {
    "scrolled": true
   },
   "outputs": [
    {
     "data": {
      "text/plain": [
       "PatientId          62299\n",
       "AppointmentID     110527\n",
       "Gender                 2\n",
       "ScheduledDay      103549\n",
       "AppointmentDay        27\n",
       "Age                  104\n",
       "Neighbourhood         81\n",
       "Scholarship            2\n",
       "Hipertension           2\n",
       "Diabetes               2\n",
       "Alcoholism             2\n",
       "Handcap                5\n",
       "SMS_received           2\n",
       "No-show                2\n",
       "dtype: int64"
      ]
     },
     "execution_count": 7,
     "metadata": {},
     "output_type": "execute_result"
    }
   ],
   "source": [
    "#Checking for the number of unique values\n",
    "\n",
    "df_appoint.nunique()"
   ]
  },
  {
   "cell_type": "markdown",
   "id": "5fa095a0",
   "metadata": {},
   "source": [
    "> A quick look into the unique values found in the dataset showed that the different entries made for each column ranging from PatientId to No-show. However, contrary to the description of the dataset on the Kaggle database, Handcap column is seen to have 5 entries. Comparing this observation with other disease condition columns, we can see that they have only two entries, which includes 1 and 0, meaning true and fasle respectively. So, let's explore further to find out the unique entries in the Handcap column."
   ]
  },
  {
   "cell_type": "code",
   "execution_count": 8,
   "id": "7fcd5a15",
   "metadata": {},
   "outputs": [
    {
     "name": "stdout",
     "output_type": "stream",
     "text": [
      "[0 1 2 3 4]\n",
      "<class 'numpy.ndarray'>\n"
     ]
    }
   ],
   "source": [
    "# unique values in column \"Handcap\"\n",
    "print(df_appoint['Handcap'].unique())\n",
    "\n",
    "# check the return type\n",
    "print(type(df_appoint['Handcap'].unique()))"
   ]
  },
  {
   "cell_type": "markdown",
   "id": "f06e3b36",
   "metadata": {},
   "source": [
    "> Based on this observation, we can clearly see that the column has values between 0 and 4. Hence, we assume that values greater than 1 might an error, since the description of the original dataset stated that entries imply only two values denoted as  true or false. So, we will convert values greater 1 back to 1 during data cleaning and assume that they imply \"true\""
   ]
  },
  {
   "cell_type": "code",
   "execution_count": 9,
   "id": "d01041c7",
   "metadata": {},
   "outputs": [
    {
     "data": {
      "text/html": [
       "<div>\n",
       "<style scoped>\n",
       "    .dataframe tbody tr th:only-of-type {\n",
       "        vertical-align: middle;\n",
       "    }\n",
       "\n",
       "    .dataframe tbody tr th {\n",
       "        vertical-align: top;\n",
       "    }\n",
       "\n",
       "    .dataframe thead th {\n",
       "        text-align: right;\n",
       "    }\n",
       "</style>\n",
       "<table border=\"1\" class=\"dataframe\">\n",
       "  <thead>\n",
       "    <tr style=\"text-align: right;\">\n",
       "      <th></th>\n",
       "      <th>PatientId</th>\n",
       "      <th>AppointmentID</th>\n",
       "      <th>Age</th>\n",
       "      <th>Scholarship</th>\n",
       "      <th>Hipertension</th>\n",
       "      <th>Diabetes</th>\n",
       "      <th>Alcoholism</th>\n",
       "      <th>Handcap</th>\n",
       "      <th>SMS_received</th>\n",
       "    </tr>\n",
       "  </thead>\n",
       "  <tbody>\n",
       "    <tr>\n",
       "      <th>count</th>\n",
       "      <td>1.105270e+05</td>\n",
       "      <td>1.105270e+05</td>\n",
       "      <td>110527.000000</td>\n",
       "      <td>110527.000000</td>\n",
       "      <td>110527.000000</td>\n",
       "      <td>110527.000000</td>\n",
       "      <td>110527.000000</td>\n",
       "      <td>110527.000000</td>\n",
       "      <td>110527.000000</td>\n",
       "    </tr>\n",
       "    <tr>\n",
       "      <th>mean</th>\n",
       "      <td>1.474963e+14</td>\n",
       "      <td>5.675305e+06</td>\n",
       "      <td>37.088874</td>\n",
       "      <td>0.098266</td>\n",
       "      <td>0.197246</td>\n",
       "      <td>0.071865</td>\n",
       "      <td>0.030400</td>\n",
       "      <td>0.022248</td>\n",
       "      <td>0.321026</td>\n",
       "    </tr>\n",
       "    <tr>\n",
       "      <th>std</th>\n",
       "      <td>2.560949e+14</td>\n",
       "      <td>7.129575e+04</td>\n",
       "      <td>23.110205</td>\n",
       "      <td>0.297675</td>\n",
       "      <td>0.397921</td>\n",
       "      <td>0.258265</td>\n",
       "      <td>0.171686</td>\n",
       "      <td>0.161543</td>\n",
       "      <td>0.466873</td>\n",
       "    </tr>\n",
       "    <tr>\n",
       "      <th>min</th>\n",
       "      <td>3.921784e+04</td>\n",
       "      <td>5.030230e+06</td>\n",
       "      <td>-1.000000</td>\n",
       "      <td>0.000000</td>\n",
       "      <td>0.000000</td>\n",
       "      <td>0.000000</td>\n",
       "      <td>0.000000</td>\n",
       "      <td>0.000000</td>\n",
       "      <td>0.000000</td>\n",
       "    </tr>\n",
       "    <tr>\n",
       "      <th>25%</th>\n",
       "      <td>4.172614e+12</td>\n",
       "      <td>5.640286e+06</td>\n",
       "      <td>18.000000</td>\n",
       "      <td>0.000000</td>\n",
       "      <td>0.000000</td>\n",
       "      <td>0.000000</td>\n",
       "      <td>0.000000</td>\n",
       "      <td>0.000000</td>\n",
       "      <td>0.000000</td>\n",
       "    </tr>\n",
       "    <tr>\n",
       "      <th>50%</th>\n",
       "      <td>3.173184e+13</td>\n",
       "      <td>5.680573e+06</td>\n",
       "      <td>37.000000</td>\n",
       "      <td>0.000000</td>\n",
       "      <td>0.000000</td>\n",
       "      <td>0.000000</td>\n",
       "      <td>0.000000</td>\n",
       "      <td>0.000000</td>\n",
       "      <td>0.000000</td>\n",
       "    </tr>\n",
       "    <tr>\n",
       "      <th>75%</th>\n",
       "      <td>9.439172e+13</td>\n",
       "      <td>5.725524e+06</td>\n",
       "      <td>55.000000</td>\n",
       "      <td>0.000000</td>\n",
       "      <td>0.000000</td>\n",
       "      <td>0.000000</td>\n",
       "      <td>0.000000</td>\n",
       "      <td>0.000000</td>\n",
       "      <td>1.000000</td>\n",
       "    </tr>\n",
       "    <tr>\n",
       "      <th>max</th>\n",
       "      <td>9.999816e+14</td>\n",
       "      <td>5.790484e+06</td>\n",
       "      <td>115.000000</td>\n",
       "      <td>1.000000</td>\n",
       "      <td>1.000000</td>\n",
       "      <td>1.000000</td>\n",
       "      <td>1.000000</td>\n",
       "      <td>4.000000</td>\n",
       "      <td>1.000000</td>\n",
       "    </tr>\n",
       "  </tbody>\n",
       "</table>\n",
       "</div>"
      ],
      "text/plain": [
       "          PatientId  AppointmentID            Age    Scholarship  \\\n",
       "count  1.105270e+05   1.105270e+05  110527.000000  110527.000000   \n",
       "mean   1.474963e+14   5.675305e+06      37.088874       0.098266   \n",
       "std    2.560949e+14   7.129575e+04      23.110205       0.297675   \n",
       "min    3.921784e+04   5.030230e+06      -1.000000       0.000000   \n",
       "25%    4.172614e+12   5.640286e+06      18.000000       0.000000   \n",
       "50%    3.173184e+13   5.680573e+06      37.000000       0.000000   \n",
       "75%    9.439172e+13   5.725524e+06      55.000000       0.000000   \n",
       "max    9.999816e+14   5.790484e+06     115.000000       1.000000   \n",
       "\n",
       "        Hipertension       Diabetes     Alcoholism        Handcap  \\\n",
       "count  110527.000000  110527.000000  110527.000000  110527.000000   \n",
       "mean        0.197246       0.071865       0.030400       0.022248   \n",
       "std         0.397921       0.258265       0.171686       0.161543   \n",
       "min         0.000000       0.000000       0.000000       0.000000   \n",
       "25%         0.000000       0.000000       0.000000       0.000000   \n",
       "50%         0.000000       0.000000       0.000000       0.000000   \n",
       "75%         0.000000       0.000000       0.000000       0.000000   \n",
       "max         1.000000       1.000000       1.000000       4.000000   \n",
       "\n",
       "        SMS_received  \n",
       "count  110527.000000  \n",
       "mean        0.321026  \n",
       "std         0.466873  \n",
       "min         0.000000  \n",
       "25%         0.000000  \n",
       "50%         0.000000  \n",
       "75%         1.000000  \n",
       "max         1.000000  "
      ]
     },
     "execution_count": 9,
     "metadata": {},
     "output_type": "execute_result"
    }
   ],
   "source": [
    "#Let's have quick statistic analysis of the dataset\n",
    "\n",
    "df_appoint.describe()"
   ]
  },
  {
   "cell_type": "markdown",
   "id": "b6cb63a2",
   "metadata": {},
   "source": [
    ">Strikingly, we discover that the mean age of all the patients scheduled for appointments in May 2016 was 37 years. Also, the patients mostly fall within age range of 18 and 55 years. About 25% of the patients class interval fall within 18 years, whereas 75% contained patients around 55 years. Overall, the dataset reveals that we are dealing mostly with a younger demographic of patients that are within the early middle age of adulthood and a few more that are already wothin the late middle age. \n",
    "\n",
    "> Also, notice that there is a negative age value under the Age column, which is equal to '-1'. Ideally, it is impossible to have such an age value. Also, this outlier may distort the shape of our visualization and ultimately the result analysis. Hence, we will work on that row during the data cleaning process."
   ]
  },
  {
   "cell_type": "code",
   "execution_count": 10,
   "id": "65eed593",
   "metadata": {},
   "outputs": [
    {
     "data": {
      "text/html": [
       "<div>\n",
       "<style scoped>\n",
       "    .dataframe tbody tr th:only-of-type {\n",
       "        vertical-align: middle;\n",
       "    }\n",
       "\n",
       "    .dataframe tbody tr th {\n",
       "        vertical-align: top;\n",
       "    }\n",
       "\n",
       "    .dataframe thead th {\n",
       "        text-align: right;\n",
       "    }\n",
       "</style>\n",
       "<table border=\"1\" class=\"dataframe\">\n",
       "  <thead>\n",
       "    <tr style=\"text-align: right;\">\n",
       "      <th></th>\n",
       "      <th>PatientId</th>\n",
       "      <th>AppointmentID</th>\n",
       "      <th>Gender</th>\n",
       "      <th>ScheduledDay</th>\n",
       "      <th>AppointmentDay</th>\n",
       "      <th>Age</th>\n",
       "      <th>Neighbourhood</th>\n",
       "      <th>Scholarship</th>\n",
       "      <th>Hipertension</th>\n",
       "      <th>Diabetes</th>\n",
       "      <th>Alcoholism</th>\n",
       "      <th>Handcap</th>\n",
       "      <th>SMS_received</th>\n",
       "      <th>No-show</th>\n",
       "    </tr>\n",
       "  </thead>\n",
       "  <tbody>\n",
       "    <tr>\n",
       "      <th>99832</th>\n",
       "      <td>4.659432e+14</td>\n",
       "      <td>5775010</td>\n",
       "      <td>F</td>\n",
       "      <td>2016-06-06T08:58:13Z</td>\n",
       "      <td>2016-06-06T00:00:00Z</td>\n",
       "      <td>-1</td>\n",
       "      <td>ROMÃO</td>\n",
       "      <td>0</td>\n",
       "      <td>0</td>\n",
       "      <td>0</td>\n",
       "      <td>0</td>\n",
       "      <td>0</td>\n",
       "      <td>0</td>\n",
       "      <td>No</td>\n",
       "    </tr>\n",
       "  </tbody>\n",
       "</table>\n",
       "</div>"
      ],
      "text/plain": [
       "          PatientId  AppointmentID Gender          ScheduledDay  \\\n",
       "99832  4.659432e+14        5775010      F  2016-06-06T08:58:13Z   \n",
       "\n",
       "             AppointmentDay  Age Neighbourhood  Scholarship  Hipertension  \\\n",
       "99832  2016-06-06T00:00:00Z   -1         ROMÃO            0             0   \n",
       "\n",
       "       Diabetes  Alcoholism  Handcap  SMS_received No-show  \n",
       "99832         0           0        0             0      No  "
      ]
     },
     "execution_count": 10,
     "metadata": {},
     "output_type": "execute_result"
    }
   ],
   "source": [
    "#Filtering out the negative value using the query function\n",
    "\n",
    "df_appoint.query(\"Age == '-1'\")"
   ]
  },
  {
   "cell_type": "markdown",
   "id": "18ea221b",
   "metadata": {},
   "source": [
    "### Data Cleaning\n",
    "> This stage will involve all the necessary steps to ensuring that the dataset is clean and suitable for exploratory analysis.\n",
    "\n",
    "> First, we begin by dropping some unnecessary columns that will not serve as potential use in the analysis,, particularly the PatientId."
   ]
  },
  {
   "cell_type": "code",
   "execution_count": 11,
   "id": "1e84bf17",
   "metadata": {},
   "outputs": [
    {
     "data": {
      "text/html": [
       "<div>\n",
       "<style scoped>\n",
       "    .dataframe tbody tr th:only-of-type {\n",
       "        vertical-align: middle;\n",
       "    }\n",
       "\n",
       "    .dataframe tbody tr th {\n",
       "        vertical-align: top;\n",
       "    }\n",
       "\n",
       "    .dataframe thead th {\n",
       "        text-align: right;\n",
       "    }\n",
       "</style>\n",
       "<table border=\"1\" class=\"dataframe\">\n",
       "  <thead>\n",
       "    <tr style=\"text-align: right;\">\n",
       "      <th></th>\n",
       "      <th>AppointmentID</th>\n",
       "      <th>Gender</th>\n",
       "      <th>ScheduledDay</th>\n",
       "      <th>AppointmentDay</th>\n",
       "      <th>Age</th>\n",
       "      <th>Neighbourhood</th>\n",
       "      <th>Scholarship</th>\n",
       "      <th>Hipertension</th>\n",
       "      <th>Diabetes</th>\n",
       "      <th>Alcoholism</th>\n",
       "      <th>Handcap</th>\n",
       "      <th>SMS_received</th>\n",
       "      <th>No-show</th>\n",
       "    </tr>\n",
       "  </thead>\n",
       "  <tbody>\n",
       "    <tr>\n",
       "      <th>0</th>\n",
       "      <td>5642903</td>\n",
       "      <td>F</td>\n",
       "      <td>2016-04-29T18:38:08Z</td>\n",
       "      <td>2016-04-29T00:00:00Z</td>\n",
       "      <td>62</td>\n",
       "      <td>JARDIM DA PENHA</td>\n",
       "      <td>0</td>\n",
       "      <td>1</td>\n",
       "      <td>0</td>\n",
       "      <td>0</td>\n",
       "      <td>0</td>\n",
       "      <td>0</td>\n",
       "      <td>No</td>\n",
       "    </tr>\n",
       "  </tbody>\n",
       "</table>\n",
       "</div>"
      ],
      "text/plain": [
       "   AppointmentID Gender          ScheduledDay        AppointmentDay  Age  \\\n",
       "0        5642903      F  2016-04-29T18:38:08Z  2016-04-29T00:00:00Z   62   \n",
       "\n",
       "     Neighbourhood  Scholarship  Hipertension  Diabetes  Alcoholism  Handcap  \\\n",
       "0  JARDIM DA PENHA            0             1         0           0        0   \n",
       "\n",
       "   SMS_received No-show  \n",
       "0             0      No  "
      ]
     },
     "execution_count": 11,
     "metadata": {},
     "output_type": "execute_result"
    }
   ],
   "source": [
    "#Dropping the PatientId column to declutter our dataset for more exploration.\n",
    "\n",
    "df_appoint.drop(['PatientId'], axis=1, inplace=True)\n",
    "\n",
    "# confirm changes\n",
    "df_appoint.head(1)"
   ]
  },
  {
   "cell_type": "markdown",
   "id": "7909c6f3",
   "metadata": {},
   "source": [
    "> So, now that we have removed the PatientId, we will proceed to changing the ScheduledDay and AppointmentDay datatypes from object to a more suitable date format that we can work with during analysis. Notice that the date format, which is described in hours, minutes and seconds, was earlier shown in the datatype info to be an object. \n",
    "\n",
    "> Also, we will be retaining only the year, month and day for the ScheduledDay and AppointmentDay, whilst remaining the time."
   ]
  },
  {
   "cell_type": "code",
   "execution_count": 12,
   "id": "dc6bebbd",
   "metadata": {},
   "outputs": [],
   "source": [
    "#Adjusting the ScheduledDay and AppointmentDay datatypes from object to a more suitable date format\n",
    "\n",
    "df_appoint['ScheduledDay'] = df_appoint['ScheduledDay'].str[:10]\n",
    "df_appoint['AppointmentDay'] = df_appoint['AppointmentDay'].str[:10]\n",
    "\n",
    "df_appoint['ScheduledDay'] = pd.to_datetime(df_appoint.ScheduledDay)\n",
    "df_appoint['AppointmentDay'] = pd.to_datetime(df_appoint.AppointmentDay)"
   ]
  },
  {
   "cell_type": "code",
   "execution_count": 13,
   "id": "32d1e149",
   "metadata": {},
   "outputs": [
    {
     "name": "stdout",
     "output_type": "stream",
     "text": [
      "<class 'pandas.core.frame.DataFrame'>\n",
      "RangeIndex: 110527 entries, 0 to 110526\n",
      "Data columns (total 13 columns):\n",
      " #   Column          Non-Null Count   Dtype         \n",
      "---  ------          --------------   -----         \n",
      " 0   AppointmentID   110527 non-null  int64         \n",
      " 1   Gender          110527 non-null  object        \n",
      " 2   ScheduledDay    110527 non-null  datetime64[ns]\n",
      " 3   AppointmentDay  110527 non-null  datetime64[ns]\n",
      " 4   Age             110527 non-null  int64         \n",
      " 5   Neighbourhood   110527 non-null  object        \n",
      " 6   Scholarship     110527 non-null  int64         \n",
      " 7   Hipertension    110527 non-null  int64         \n",
      " 8   Diabetes        110527 non-null  int64         \n",
      " 9   Alcoholism      110527 non-null  int64         \n",
      " 10  Handcap         110527 non-null  int64         \n",
      " 11  SMS_received    110527 non-null  int64         \n",
      " 12  No-show         110527 non-null  object        \n",
      "dtypes: datetime64[ns](2), int64(8), object(3)\n",
      "memory usage: 11.0+ MB\n"
     ]
    }
   ],
   "source": [
    "#To confirm the changes, let us re-check the datatype info\n",
    "\n",
    "df_appoint.info()"
   ]
  },
  {
   "cell_type": "markdown",
   "id": "d0308aee",
   "metadata": {},
   "source": [
    "### We are cool now!\n",
    "\n",
    "> Next, we proceed to drop the negative age, because it is practically impossible to have a negative age value. We assume the inputted value could have been an error."
   ]
  },
  {
   "cell_type": "code",
   "execution_count": 14,
   "id": "bf6d29bb",
   "metadata": {},
   "outputs": [
    {
     "data": {
      "text/plain": [
       "Int64Index([99832], dtype='int64')"
      ]
     },
     "execution_count": 14,
     "metadata": {},
     "output_type": "execute_result"
    }
   ],
   "source": [
    "#First, let's find out the default index number automatically designated to the value by pandas.\n",
    "\n",
    "df_appoint.query(\"Age == '-1'\").index"
   ]
  },
  {
   "cell_type": "code",
   "execution_count": 15,
   "id": "81cef111",
   "metadata": {},
   "outputs": [
    {
     "name": "stdout",
     "output_type": "stream",
     "text": [
      "Empty DataFrame\n",
      "Columns: [AppointmentID, Gender, ScheduledDay, AppointmentDay, Age, Neighbourhood, Scholarship, Hipertension, Diabetes, Alcoholism, Handcap, SMS_received, No-show]\n",
      "Index: []\n"
     ]
    }
   ],
   "source": [
    "#Dropping the negative age value by the default index\n",
    "df_appoint.drop([99832], axis=0, inplace=True)\n",
    "print(df_appoint.query(\"Age == '-1'\"))"
   ]
  },
  {
   "cell_type": "markdown",
   "id": "67a26faa",
   "metadata": {},
   "source": [
    "> We used the function above because we could observe that the dataframe has only one negative value under the Age column. However, if other negative values were present, then an alternative function could have been used to filter and drop all of them simultaenously."
   ]
  },
  {
   "cell_type": "markdown",
   "id": "812bd364",
   "metadata": {},
   "source": [
    "> Finally, we have removed the negative age value."
   ]
  },
  {
   "cell_type": "code",
   "execution_count": 16,
   "id": "bd001c21",
   "metadata": {},
   "outputs": [
    {
     "data": {
      "text/html": [
       "<div>\n",
       "<style scoped>\n",
       "    .dataframe tbody tr th:only-of-type {\n",
       "        vertical-align: middle;\n",
       "    }\n",
       "\n",
       "    .dataframe tbody tr th {\n",
       "        vertical-align: top;\n",
       "    }\n",
       "\n",
       "    .dataframe thead th {\n",
       "        text-align: right;\n",
       "    }\n",
       "</style>\n",
       "<table border=\"1\" class=\"dataframe\">\n",
       "  <thead>\n",
       "    <tr style=\"text-align: right;\">\n",
       "      <th></th>\n",
       "      <th>AppointmentID</th>\n",
       "      <th>Age</th>\n",
       "      <th>Scholarship</th>\n",
       "      <th>Hipertension</th>\n",
       "      <th>Diabetes</th>\n",
       "      <th>Alcoholism</th>\n",
       "      <th>Handcap</th>\n",
       "      <th>SMS_received</th>\n",
       "    </tr>\n",
       "  </thead>\n",
       "  <tbody>\n",
       "    <tr>\n",
       "      <th>count</th>\n",
       "      <td>1.105260e+05</td>\n",
       "      <td>110526.000000</td>\n",
       "      <td>110526.000000</td>\n",
       "      <td>110526.000000</td>\n",
       "      <td>110526.000000</td>\n",
       "      <td>110526.000000</td>\n",
       "      <td>110526.000000</td>\n",
       "      <td>110526.000000</td>\n",
       "    </tr>\n",
       "    <tr>\n",
       "      <th>mean</th>\n",
       "      <td>5.675304e+06</td>\n",
       "      <td>37.089219</td>\n",
       "      <td>0.098266</td>\n",
       "      <td>0.197248</td>\n",
       "      <td>0.071865</td>\n",
       "      <td>0.030400</td>\n",
       "      <td>0.022248</td>\n",
       "      <td>0.321029</td>\n",
       "    </tr>\n",
       "    <tr>\n",
       "      <th>std</th>\n",
       "      <td>7.129544e+04</td>\n",
       "      <td>23.110026</td>\n",
       "      <td>0.297676</td>\n",
       "      <td>0.397923</td>\n",
       "      <td>0.258266</td>\n",
       "      <td>0.171686</td>\n",
       "      <td>0.161543</td>\n",
       "      <td>0.466874</td>\n",
       "    </tr>\n",
       "    <tr>\n",
       "      <th>min</th>\n",
       "      <td>5.030230e+06</td>\n",
       "      <td>0.000000</td>\n",
       "      <td>0.000000</td>\n",
       "      <td>0.000000</td>\n",
       "      <td>0.000000</td>\n",
       "      <td>0.000000</td>\n",
       "      <td>0.000000</td>\n",
       "      <td>0.000000</td>\n",
       "    </tr>\n",
       "    <tr>\n",
       "      <th>25%</th>\n",
       "      <td>5.640285e+06</td>\n",
       "      <td>18.000000</td>\n",
       "      <td>0.000000</td>\n",
       "      <td>0.000000</td>\n",
       "      <td>0.000000</td>\n",
       "      <td>0.000000</td>\n",
       "      <td>0.000000</td>\n",
       "      <td>0.000000</td>\n",
       "    </tr>\n",
       "    <tr>\n",
       "      <th>50%</th>\n",
       "      <td>5.680572e+06</td>\n",
       "      <td>37.000000</td>\n",
       "      <td>0.000000</td>\n",
       "      <td>0.000000</td>\n",
       "      <td>0.000000</td>\n",
       "      <td>0.000000</td>\n",
       "      <td>0.000000</td>\n",
       "      <td>0.000000</td>\n",
       "    </tr>\n",
       "    <tr>\n",
       "      <th>75%</th>\n",
       "      <td>5.725523e+06</td>\n",
       "      <td>55.000000</td>\n",
       "      <td>0.000000</td>\n",
       "      <td>0.000000</td>\n",
       "      <td>0.000000</td>\n",
       "      <td>0.000000</td>\n",
       "      <td>0.000000</td>\n",
       "      <td>1.000000</td>\n",
       "    </tr>\n",
       "    <tr>\n",
       "      <th>max</th>\n",
       "      <td>5.790484e+06</td>\n",
       "      <td>115.000000</td>\n",
       "      <td>1.000000</td>\n",
       "      <td>1.000000</td>\n",
       "      <td>1.000000</td>\n",
       "      <td>1.000000</td>\n",
       "      <td>4.000000</td>\n",
       "      <td>1.000000</td>\n",
       "    </tr>\n",
       "  </tbody>\n",
       "</table>\n",
       "</div>"
      ],
      "text/plain": [
       "       AppointmentID            Age    Scholarship   Hipertension  \\\n",
       "count   1.105260e+05  110526.000000  110526.000000  110526.000000   \n",
       "mean    5.675304e+06      37.089219       0.098266       0.197248   \n",
       "std     7.129544e+04      23.110026       0.297676       0.397923   \n",
       "min     5.030230e+06       0.000000       0.000000       0.000000   \n",
       "25%     5.640285e+06      18.000000       0.000000       0.000000   \n",
       "50%     5.680572e+06      37.000000       0.000000       0.000000   \n",
       "75%     5.725523e+06      55.000000       0.000000       0.000000   \n",
       "max     5.790484e+06     115.000000       1.000000       1.000000   \n",
       "\n",
       "            Diabetes     Alcoholism        Handcap   SMS_received  \n",
       "count  110526.000000  110526.000000  110526.000000  110526.000000  \n",
       "mean        0.071865       0.030400       0.022248       0.321029  \n",
       "std         0.258266       0.171686       0.161543       0.466874  \n",
       "min         0.000000       0.000000       0.000000       0.000000  \n",
       "25%         0.000000       0.000000       0.000000       0.000000  \n",
       "50%         0.000000       0.000000       0.000000       0.000000  \n",
       "75%         0.000000       0.000000       0.000000       1.000000  \n",
       "max         1.000000       1.000000       4.000000       1.000000  "
      ]
     },
     "execution_count": 16,
     "metadata": {},
     "output_type": "execute_result"
    }
   ],
   "source": [
    "#Taking a quick look into the summary statistics, as an alternative route of confirmation, we can notice that there is no negative age value in the table below.\n",
    "\n",
    "df_appoint.describe()"
   ]
  },
  {
   "cell_type": "markdown",
   "id": "aab950fd",
   "metadata": {},
   "source": [
    "> Earlier, our dataset info revealed that columns such Hipertension, Diabetes, Alcoholism, Handcap, and SMS_received, were denoted as integers represented in ones and zeros, which implied true and false respectively. However, in preparation to further exploration, let us change these integers into booleans to create two categories, true and false, for easy understanding and visualization of the data. Considering the nature of the dataset, this will help us make sense of those segments of the data represented in ones and zeros.\n",
    "\n",
    "> Next, we will also be converting the Gender column into categorical data, which possess discrete values, for easy visualization during data exploration"
   ]
  },
  {
   "cell_type": "code",
   "execution_count": 17,
   "id": "81e2873f",
   "metadata": {},
   "outputs": [
    {
     "data": {
      "text/plain": [
       "CategoricalDtype(categories=['F', 'M'], ordered=False)"
      ]
     },
     "execution_count": 17,
     "metadata": {},
     "output_type": "execute_result"
    }
   ],
   "source": [
    "#Changing the Gender column into categorical data and confirming changes\n",
    "df_appoint['Gender'] = df_appoint['Gender'].astype('category')\n",
    "\n",
    "df_appoint['Gender'].dtypes"
   ]
  },
  {
   "cell_type": "markdown",
   "id": "2b346c98",
   "metadata": {},
   "source": [
    "> At this point, we will proceed to handling the Handcap column and converting values greater 1 (that is values between 2 and 4) back to 1 and assume that they imply \"true\""
   ]
  },
  {
   "cell_type": "code",
   "execution_count": 18,
   "id": "a961f476",
   "metadata": {},
   "outputs": [
    {
     "data": {
      "text/plain": [
       "AppointmentID     199\n",
       "Gender            199\n",
       "ScheduledDay      199\n",
       "AppointmentDay    199\n",
       "Age               199\n",
       "Neighbourhood     199\n",
       "Scholarship       199\n",
       "Hipertension      199\n",
       "Diabetes          199\n",
       "Alcoholism        199\n",
       "Handcap           199\n",
       "SMS_received      199\n",
       "No-show           199\n",
       "dtype: int64"
      ]
     },
     "execution_count": 18,
     "metadata": {},
     "output_type": "execute_result"
    }
   ],
   "source": [
    "#Let us find out the number of values greater than 1 under the Handcap column\n",
    "df_appoint[df_appoint['Handcap'] >= 2].count()"
   ]
  },
  {
   "cell_type": "markdown",
   "id": "e12f72be",
   "metadata": {},
   "source": [
    "> Eventually, we have 199 values greater 1  under the Handcap column. So, we will be changing these values back to 1, assuming that they are \"true\""
   ]
  },
  {
   "cell_type": "code",
   "execution_count": 19,
   "id": "0573e552",
   "metadata": {},
   "outputs": [
    {
     "data": {
      "text/plain": [
       "array([False,  True])"
      ]
     },
     "execution_count": 19,
     "metadata": {},
     "output_type": "execute_result"
    }
   ],
   "source": [
    "#Changing the values to 1\n",
    "df_appoint.loc[df_appoint['Handcap'].isin([2, 3, 4]), 'Handcap'] = 1\n",
    "\n",
    "# casting type and confirming changes\n",
    "df_appoint['Handcap'] = df_appoint['Handcap'].astype('bool')\n",
    "df_appoint['Handcap'].unique()"
   ]
  },
  {
   "cell_type": "code",
   "execution_count": 20,
   "id": "7e8a337d",
   "metadata": {},
   "outputs": [
    {
     "name": "stdout",
     "output_type": "stream",
     "text": [
      "Empty DataFrame\n",
      "Columns: [AppointmentID, Gender, ScheduledDay, AppointmentDay, Age, Neighbourhood, Scholarship, Hipertension, Diabetes, Alcoholism, Handcap, SMS_received, No-show]\n",
      "Index: []\n"
     ]
    }
   ],
   "source": [
    "#Confirming that the changes have been effected\n",
    "print(df_appoint.query(\"Handcap >= 2\"))"
   ]
  },
  {
   "cell_type": "markdown",
   "id": "d852b1a4",
   "metadata": {},
   "source": [
    "> There are no values greater than 1 in the Handcap column anymore"
   ]
  },
  {
   "cell_type": "code",
   "execution_count": 21,
   "id": "ae91457e",
   "metadata": {},
   "outputs": [
    {
     "data": {
      "text/plain": [
       "Scholarship     bool\n",
       "Hipertension    bool\n",
       "Diabetes        bool\n",
       "Alcoholism      bool\n",
       "SMS_received    bool\n",
       "dtype: object"
      ]
     },
     "execution_count": 21,
     "metadata": {},
     "output_type": "execute_result"
    }
   ],
   "source": [
    "#Changing the columns from integers to booleans datatypes\n",
    "\n",
    "sel_col = ['Scholarship', 'Hipertension', 'Diabetes', 'Alcoholism', 'SMS_received']\n",
    "df_appoint[sel_col] = df_appoint[sel_col].astype('bool')\n",
    "df_appoint[sel_col].dtypes"
   ]
  },
  {
   "cell_type": "code",
   "execution_count": 22,
   "id": "c65bc2a5",
   "metadata": {},
   "outputs": [
    {
     "data": {
      "text/plain": [
       "dtype('bool')"
      ]
     },
     "execution_count": 22,
     "metadata": {},
     "output_type": "execute_result"
    }
   ],
   "source": [
    "#Let us convert No-show column to boolean using a different approach. Why?\n",
    "#When the patient show up, it reads 'No'; but when absent it reads 'Yes'.\n",
    "#Let us convert that to boolean, which implies '0' for absence (true) and '1' for presence (false).\n",
    "\n",
    "df_appoint.loc[df_appoint['No-show'] == 'Yes', 'No-show'] = 0\n",
    "df_appoint.loc[df_appoint['No-show'] == 'No', 'No-show'] = 1\n",
    "\n",
    "# Let us now cast the data types and verify our changes have been effected\n",
    "df_appoint['No-show'] = df_appoint['No-show'].astype(bool)\n",
    "df_appoint['No-show'].dtypes"
   ]
  },
  {
   "cell_type": "code",
   "execution_count": 23,
   "id": "3800046a",
   "metadata": {},
   "outputs": [
    {
     "name": "stdout",
     "output_type": "stream",
     "text": [
      "<class 'pandas.core.frame.DataFrame'>\n",
      "Int64Index: 110526 entries, 0 to 110526\n",
      "Data columns (total 13 columns):\n",
      " #   Column          Non-Null Count   Dtype         \n",
      "---  ------          --------------   -----         \n",
      " 0   AppointmentID   110526 non-null  int64         \n",
      " 1   Gender          110526 non-null  category      \n",
      " 2   ScheduledDay    110526 non-null  datetime64[ns]\n",
      " 3   AppointmentDay  110526 non-null  datetime64[ns]\n",
      " 4   Age             110526 non-null  int64         \n",
      " 5   Neighbourhood   110526 non-null  object        \n",
      " 6   Scholarship     110526 non-null  bool          \n",
      " 7   Hipertension    110526 non-null  bool          \n",
      " 8   Diabetes        110526 non-null  bool          \n",
      " 9   Alcoholism      110526 non-null  bool          \n",
      " 10  Handcap         110526 non-null  bool          \n",
      " 11  SMS_received    110526 non-null  bool          \n",
      " 12  No-show         110526 non-null  bool          \n",
      "dtypes: bool(7), category(1), datetime64[ns](2), int64(2), object(1)\n",
      "memory usage: 5.9+ MB\n",
      "None\n"
     ]
    }
   ],
   "source": [
    "#Let us confirm the changes...\n",
    "\n",
    "print(df_appoint.info())"
   ]
  },
  {
   "cell_type": "markdown",
   "id": "88844767",
   "metadata": {},
   "source": [
    "> Taking a look at the datatypes, we can now observe the changes."
   ]
  },
  {
   "cell_type": "code",
   "execution_count": 24,
   "id": "0426b99a",
   "metadata": {},
   "outputs": [
    {
     "data": {
      "text/html": [
       "<div>\n",
       "<style scoped>\n",
       "    .dataframe tbody tr th:only-of-type {\n",
       "        vertical-align: middle;\n",
       "    }\n",
       "\n",
       "    .dataframe tbody tr th {\n",
       "        vertical-align: top;\n",
       "    }\n",
       "\n",
       "    .dataframe thead th {\n",
       "        text-align: right;\n",
       "    }\n",
       "</style>\n",
       "<table border=\"1\" class=\"dataframe\">\n",
       "  <thead>\n",
       "    <tr style=\"text-align: right;\">\n",
       "      <th></th>\n",
       "      <th>AppointmentID</th>\n",
       "      <th>Gender</th>\n",
       "      <th>ScheduledDay</th>\n",
       "      <th>AppointmentDay</th>\n",
       "      <th>Age</th>\n",
       "      <th>Neighbourhood</th>\n",
       "      <th>Scholarship</th>\n",
       "      <th>Hipertension</th>\n",
       "      <th>Diabetes</th>\n",
       "      <th>Alcoholism</th>\n",
       "      <th>Handcap</th>\n",
       "      <th>SMS_received</th>\n",
       "      <th>No-show</th>\n",
       "    </tr>\n",
       "  </thead>\n",
       "  <tbody>\n",
       "    <tr>\n",
       "      <th>0</th>\n",
       "      <td>5642903</td>\n",
       "      <td>F</td>\n",
       "      <td>2016-04-29</td>\n",
       "      <td>2016-04-29</td>\n",
       "      <td>62</td>\n",
       "      <td>JARDIM DA PENHA</td>\n",
       "      <td>False</td>\n",
       "      <td>True</td>\n",
       "      <td>False</td>\n",
       "      <td>False</td>\n",
       "      <td>False</td>\n",
       "      <td>False</td>\n",
       "      <td>True</td>\n",
       "    </tr>\n",
       "    <tr>\n",
       "      <th>1</th>\n",
       "      <td>5642503</td>\n",
       "      <td>M</td>\n",
       "      <td>2016-04-29</td>\n",
       "      <td>2016-04-29</td>\n",
       "      <td>56</td>\n",
       "      <td>JARDIM DA PENHA</td>\n",
       "      <td>False</td>\n",
       "      <td>False</td>\n",
       "      <td>False</td>\n",
       "      <td>False</td>\n",
       "      <td>False</td>\n",
       "      <td>False</td>\n",
       "      <td>True</td>\n",
       "    </tr>\n",
       "    <tr>\n",
       "      <th>2</th>\n",
       "      <td>5642549</td>\n",
       "      <td>F</td>\n",
       "      <td>2016-04-29</td>\n",
       "      <td>2016-04-29</td>\n",
       "      <td>62</td>\n",
       "      <td>MATA DA PRAIA</td>\n",
       "      <td>False</td>\n",
       "      <td>False</td>\n",
       "      <td>False</td>\n",
       "      <td>False</td>\n",
       "      <td>False</td>\n",
       "      <td>False</td>\n",
       "      <td>True</td>\n",
       "    </tr>\n",
       "    <tr>\n",
       "      <th>3</th>\n",
       "      <td>5642828</td>\n",
       "      <td>F</td>\n",
       "      <td>2016-04-29</td>\n",
       "      <td>2016-04-29</td>\n",
       "      <td>8</td>\n",
       "      <td>PONTAL DE CAMBURI</td>\n",
       "      <td>False</td>\n",
       "      <td>False</td>\n",
       "      <td>False</td>\n",
       "      <td>False</td>\n",
       "      <td>False</td>\n",
       "      <td>False</td>\n",
       "      <td>True</td>\n",
       "    </tr>\n",
       "    <tr>\n",
       "      <th>4</th>\n",
       "      <td>5642494</td>\n",
       "      <td>F</td>\n",
       "      <td>2016-04-29</td>\n",
       "      <td>2016-04-29</td>\n",
       "      <td>56</td>\n",
       "      <td>JARDIM DA PENHA</td>\n",
       "      <td>False</td>\n",
       "      <td>True</td>\n",
       "      <td>True</td>\n",
       "      <td>False</td>\n",
       "      <td>False</td>\n",
       "      <td>False</td>\n",
       "      <td>True</td>\n",
       "    </tr>\n",
       "    <tr>\n",
       "      <th>...</th>\n",
       "      <td>...</td>\n",
       "      <td>...</td>\n",
       "      <td>...</td>\n",
       "      <td>...</td>\n",
       "      <td>...</td>\n",
       "      <td>...</td>\n",
       "      <td>...</td>\n",
       "      <td>...</td>\n",
       "      <td>...</td>\n",
       "      <td>...</td>\n",
       "      <td>...</td>\n",
       "      <td>...</td>\n",
       "      <td>...</td>\n",
       "    </tr>\n",
       "    <tr>\n",
       "      <th>110522</th>\n",
       "      <td>5651768</td>\n",
       "      <td>F</td>\n",
       "      <td>2016-05-03</td>\n",
       "      <td>2016-06-07</td>\n",
       "      <td>56</td>\n",
       "      <td>MARIA ORTIZ</td>\n",
       "      <td>False</td>\n",
       "      <td>False</td>\n",
       "      <td>False</td>\n",
       "      <td>False</td>\n",
       "      <td>False</td>\n",
       "      <td>True</td>\n",
       "      <td>True</td>\n",
       "    </tr>\n",
       "    <tr>\n",
       "      <th>110523</th>\n",
       "      <td>5650093</td>\n",
       "      <td>F</td>\n",
       "      <td>2016-05-03</td>\n",
       "      <td>2016-06-07</td>\n",
       "      <td>51</td>\n",
       "      <td>MARIA ORTIZ</td>\n",
       "      <td>False</td>\n",
       "      <td>False</td>\n",
       "      <td>False</td>\n",
       "      <td>False</td>\n",
       "      <td>False</td>\n",
       "      <td>True</td>\n",
       "      <td>True</td>\n",
       "    </tr>\n",
       "    <tr>\n",
       "      <th>110524</th>\n",
       "      <td>5630692</td>\n",
       "      <td>F</td>\n",
       "      <td>2016-04-27</td>\n",
       "      <td>2016-06-07</td>\n",
       "      <td>21</td>\n",
       "      <td>MARIA ORTIZ</td>\n",
       "      <td>False</td>\n",
       "      <td>False</td>\n",
       "      <td>False</td>\n",
       "      <td>False</td>\n",
       "      <td>False</td>\n",
       "      <td>True</td>\n",
       "      <td>True</td>\n",
       "    </tr>\n",
       "    <tr>\n",
       "      <th>110525</th>\n",
       "      <td>5630323</td>\n",
       "      <td>F</td>\n",
       "      <td>2016-04-27</td>\n",
       "      <td>2016-06-07</td>\n",
       "      <td>38</td>\n",
       "      <td>MARIA ORTIZ</td>\n",
       "      <td>False</td>\n",
       "      <td>False</td>\n",
       "      <td>False</td>\n",
       "      <td>False</td>\n",
       "      <td>False</td>\n",
       "      <td>True</td>\n",
       "      <td>True</td>\n",
       "    </tr>\n",
       "    <tr>\n",
       "      <th>110526</th>\n",
       "      <td>5629448</td>\n",
       "      <td>F</td>\n",
       "      <td>2016-04-27</td>\n",
       "      <td>2016-06-07</td>\n",
       "      <td>54</td>\n",
       "      <td>MARIA ORTIZ</td>\n",
       "      <td>False</td>\n",
       "      <td>False</td>\n",
       "      <td>False</td>\n",
       "      <td>False</td>\n",
       "      <td>False</td>\n",
       "      <td>True</td>\n",
       "      <td>True</td>\n",
       "    </tr>\n",
       "  </tbody>\n",
       "</table>\n",
       "<p>110526 rows × 13 columns</p>\n",
       "</div>"
      ],
      "text/plain": [
       "        AppointmentID Gender ScheduledDay AppointmentDay  Age  \\\n",
       "0             5642903      F   2016-04-29     2016-04-29   62   \n",
       "1             5642503      M   2016-04-29     2016-04-29   56   \n",
       "2             5642549      F   2016-04-29     2016-04-29   62   \n",
       "3             5642828      F   2016-04-29     2016-04-29    8   \n",
       "4             5642494      F   2016-04-29     2016-04-29   56   \n",
       "...               ...    ...          ...            ...  ...   \n",
       "110522        5651768      F   2016-05-03     2016-06-07   56   \n",
       "110523        5650093      F   2016-05-03     2016-06-07   51   \n",
       "110524        5630692      F   2016-04-27     2016-06-07   21   \n",
       "110525        5630323      F   2016-04-27     2016-06-07   38   \n",
       "110526        5629448      F   2016-04-27     2016-06-07   54   \n",
       "\n",
       "            Neighbourhood  Scholarship  Hipertension  Diabetes  Alcoholism  \\\n",
       "0         JARDIM DA PENHA        False          True     False       False   \n",
       "1         JARDIM DA PENHA        False         False     False       False   \n",
       "2           MATA DA PRAIA        False         False     False       False   \n",
       "3       PONTAL DE CAMBURI        False         False     False       False   \n",
       "4         JARDIM DA PENHA        False          True      True       False   \n",
       "...                   ...          ...           ...       ...         ...   \n",
       "110522        MARIA ORTIZ        False         False     False       False   \n",
       "110523        MARIA ORTIZ        False         False     False       False   \n",
       "110524        MARIA ORTIZ        False         False     False       False   \n",
       "110525        MARIA ORTIZ        False         False     False       False   \n",
       "110526        MARIA ORTIZ        False         False     False       False   \n",
       "\n",
       "        Handcap  SMS_received  No-show  \n",
       "0         False         False     True  \n",
       "1         False         False     True  \n",
       "2         False         False     True  \n",
       "3         False         False     True  \n",
       "4         False         False     True  \n",
       "...         ...           ...      ...  \n",
       "110522    False          True     True  \n",
       "110523    False          True     True  \n",
       "110524    False          True     True  \n",
       "110525    False          True     True  \n",
       "110526    False          True     True  \n",
       "\n",
       "[110526 rows x 13 columns]"
      ]
     },
     "execution_count": 24,
     "metadata": {},
     "output_type": "execute_result"
    }
   ],
   "source": [
    "#Now, let us have overview of the first 10 rows in the dataset to see the effect of what we have done\n",
    "df_appoint"
   ]
  },
  {
   "cell_type": "markdown",
   "id": "99e5d330",
   "metadata": {},
   "source": [
    "> In essence, this implies that a disease condition is present when the boolean reads \"true\", while it is absent when it reads \"false\". also, patients that showed are denoted as \"false\", while those that failed to show up are denoted as \"true\". \n",
    "\n",
    "> Now, we are ready for exploratory data analysis"
   ]
  },
  {
   "cell_type": "markdown",
   "id": "a94279d8",
   "metadata": {},
   "source": [
    "<a id='eda'></a>\n",
    "## Exploratory Data Analysis\n",
    "Now, we can commence our data exploration. We will examining one variable at a time and then in relation with each other.\n",
    "\n",
    "\n",
    "### 1. Which gender showed up the more for the doctor's medical appointment?"
   ]
  },
  {
   "cell_type": "code",
   "execution_count": 25,
   "id": "4fa702aa",
   "metadata": {},
   "outputs": [
    {
     "data": {
      "text/plain": [
       "F    71839\n",
       "M    38687\n",
       "Name: Gender, dtype: int64"
      ]
     },
     "execution_count": 25,
     "metadata": {},
     "output_type": "execute_result"
    }
   ],
   "source": [
    "#Let us find out the number of patients in each gender category\n",
    "\n",
    "df_appoint['Gender'].value_counts()"
   ]
  },
  {
   "cell_type": "markdown",
   "id": "4ba116e1",
   "metadata": {},
   "source": [
    "> We have **71839** female patients and **38687** male patients"
   ]
  },
  {
   "cell_type": "code",
   "execution_count": 26,
   "id": "05efbc28",
   "metadata": {},
   "outputs": [
    {
     "data": {
      "text/plain": [
       "Text(0, 0.5, 'Count')"
      ]
     },
     "execution_count": 26,
     "metadata": {},
     "output_type": "execute_result"
    },
    {
     "data": {
      "image/png": "[encoded data removed]",
      "text/plain": [
       "<Figure size 432x288 with 1 Axes>"
      ]
     },
     "metadata": {
      "needs_background": "light"
     },
     "output_type": "display_data"
    }
   ],
   "source": [
    "#Making a visualization of the gender counts\n",
    "\n",
    "colors = ['red', 'blue']\n",
    "Gender_count = df_appoint['Gender'].value_counts()\n",
    "Gender_count.plot(kind='bar', title='Gender count', color=colors, alpha=.7);\n",
    "plt.xlabel('Gender', fontsize=18)\n",
    "plt.ylabel('Count', fontsize=18)"
   ]
  },
  {
   "cell_type": "code",
   "execution_count": 27,
   "id": "6bace3a5",
   "metadata": {},
   "outputs": [
    {
     "data": {
      "image/png": "[encoded data removed]",
      "text/plain": [
       "<Figure size 576x576 with 1 Axes>"
      ]
     },
     "metadata": {},
     "output_type": "display_data"
    }
   ],
   "source": [
    "ind = df_appoint['Gender'].value_counts().index\n",
    "df_appoint['Gender'].value_counts()[ind].plot(kind='pie', figsize=(8,8));"
   ]
  },
  {
   "cell_type": "code",
   "execution_count": 28,
   "id": "a9262653",
   "metadata": {},
   "outputs": [
    {
     "data": {
      "image/png": "[encoded data removed]",
      "text/plain": [
       "<Figure size 432x288 with 1 Axes>"
      ]
     },
     "metadata": {
      "needs_background": "light"
     },
     "output_type": "display_data"
    }
   ],
   "source": [
    "#Plotting the Gender category by Age\n",
    "\n",
    "sns.boxplot(x = 'Gender', y = 'Age', data = df_appoint)\n",
    "plt.title(\"Gender category by Age\")\n",
    "plt.show()"
   ]
  },
  {
   "cell_type": "markdown",
   "id": "ae462a18",
   "metadata": {},
   "source": [
    "> This confirms that we have more females patients than males that were scheduled to meet with the doctor in March 2016. Interestingly, these females fall within a broader age bracket ranging between 22 and 58 years with an outlier above 100 years. The males are densely sparsed around 16 and 57 years."
   ]
  },
  {
   "cell_type": "code",
   "execution_count": 29,
   "id": "3475cb6a",
   "metadata": {},
   "outputs": [
    {
     "name": "stderr",
     "output_type": "stream",
     "text": [
      "C:\\Users\\LENOVO\\anaconda3\\envs\\ucpy3.6\\lib\\site-packages\\seaborn\\_decorators.py:43: FutureWarning: Pass the following variable as a keyword arg: x. From version 0.12, the only valid positional argument will be `data`, and passing other arguments without an explicit keyword will result in an error or misinterpretation.\n",
      "  FutureWarning\n"
     ]
    },
    {
     "data": {
      "text/plain": [
       "<AxesSubplot:xlabel='Gender', ylabel='count'>"
      ]
     },
     "execution_count": 29,
     "metadata": {},
     "output_type": "execute_result"
    },
    {
     "data": {
      "image/png": "[encoded data removed]",
      "text/plain": [
       "<Figure size 1080x360 with 1 Axes>"
      ]
     },
     "metadata": {
      "needs_background": "light"
     },
     "output_type": "display_data"
    }
   ],
   "source": [
    "#Assessing the gender category for the gender with highest attendance to doctor's appointment using \"No-show\" column\n",
    "plt.figure(figsize=(15,5))\n",
    "plt.subplot(1,2,1)\n",
    "sns.countplot('Gender', hue='No-show', data=df_appoint)"
   ]
  },
  {
   "cell_type": "markdown",
   "id": "cd3a7755",
   "metadata": {},
   "source": [
    "> The data visualization shows that we have more female patients in attendance to doctor's appointment than their male counterparts. However, this observation remains tentative until confirmed using inferential statistics and machine learning that gender factor contributes significantly to attending doctor's appointment."
   ]
  },
  {
   "cell_type": "markdown",
   "id": "8a083fbc",
   "metadata": {},
   "source": [
    "### 2. Did scholarships influence the attendance of patients to doctor's medical appointment?"
   ]
  },
  {
   "cell_type": "code",
   "execution_count": 30,
   "id": "6163c52e",
   "metadata": {},
   "outputs": [
    {
     "data": {
      "text/plain": [
       "False    99665\n",
       "True     10861\n",
       "Name: Scholarship, dtype: int64"
      ]
     },
     "execution_count": 30,
     "metadata": {},
     "output_type": "execute_result"
    }
   ],
   "source": [
    "#First, let us find out the number of scholarship recipients\n",
    "\n",
    "df_appoint['Scholarship'].value_counts()"
   ]
  },
  {
   "cell_type": "markdown",
   "id": "76fc5722",
   "metadata": {},
   "source": [
    "> This implies that **10861** patients received scholarship while **99665** patients did not receive, meaning that a smaller percentage were beneficiaries. A visualization of this data below will throw more lights."
   ]
  },
  {
   "cell_type": "code",
   "execution_count": 31,
   "id": "e696e8a6",
   "metadata": {},
   "outputs": [
    {
     "data": {
      "text/plain": [
       "Text(0, 0.5, 'Number of recipients')"
      ]
     },
     "execution_count": 31,
     "metadata": {},
     "output_type": "execute_result"
    },
    {
     "data": {
      "image/png": "[encoded data removed]",
      "text/plain": [
       "<Figure size 432x288 with 1 Axes>"
      ]
     },
     "metadata": {
      "needs_background": "light"
     },
     "output_type": "display_data"
    }
   ],
   "source": [
    "colors = ['grey', 'black']\n",
    "Gender_count = df_appoint['Scholarship'].value_counts()\n",
    "Gender_count.plot(kind='bar', title='Scholarship recipients', color=colors, alpha=.7);\n",
    "plt.xlabel('Scholarship', fontsize=18)\n",
    "plt.ylabel('Number of recipients', fontsize=18)"
   ]
  },
  {
   "cell_type": "code",
   "execution_count": 32,
   "id": "8fedf87c",
   "metadata": {},
   "outputs": [
    {
     "name": "stderr",
     "output_type": "stream",
     "text": [
      "C:\\Users\\LENOVO\\anaconda3\\envs\\ucpy3.6\\lib\\site-packages\\seaborn\\_decorators.py:43: FutureWarning: Pass the following variable as a keyword arg: x. From version 0.12, the only valid positional argument will be `data`, and passing other arguments without an explicit keyword will result in an error or misinterpretation.\n",
      "  FutureWarning\n"
     ]
    },
    {
     "data": {
      "text/plain": [
       "<AxesSubplot:xlabel='Scholarship', ylabel='count'>"
      ]
     },
     "execution_count": 32,
     "metadata": {},
     "output_type": "execute_result"
    },
    {
     "data": {
      "image/png": "[encoded data removed]",
      "text/plain": [
       "<Figure size 1080x360 with 1 Axes>"
      ]
     },
     "metadata": {
      "needs_background": "light"
     },
     "output_type": "display_data"
    }
   ],
   "source": [
    "#Assessing the number of scholarship recipients based on their gender category\n",
    "plt.figure(figsize=(15,5))\n",
    "plt.subplot(1,2,1)\n",
    "sns.countplot('Scholarship', hue='Gender', data=df_appoint)"
   ]
  },
  {
   "cell_type": "markdown",
   "id": "07dc82a5",
   "metadata": {},
   "source": [
    "> From the visualization, we can observe that there were lesser recipients of the scholarship. Comparatively, there is a higher number of female recipients relative to the male. Similarly, there is a higher number of females that did not receive the scholarship relative to the males in that category. \n",
    "\n",
    "> I think this scenario can be explained based on the ratio of female to male in the dataset. There are more females to male in the dataset. Hence, this somewhat created a disproportionate ratio. However, it also points to the fact that more females visited the hospital and scheduled appointment with the doctor in March 2016."
   ]
  },
  {
   "cell_type": "code",
   "execution_count": 33,
   "id": "fdb26c7d",
   "metadata": {},
   "outputs": [
    {
     "data": {
      "text/plain": [
       "<seaborn.axisgrid.FacetGrid at 0x2b1294345f8>"
      ]
     },
     "execution_count": 33,
     "metadata": {},
     "output_type": "execute_result"
    },
    {
     "data": {
      "image/png": "[encoded data removed]",
      "text/plain": [
       "<Figure size 421.25x360 with 1 Axes>"
      ]
     },
     "metadata": {
      "needs_background": "light"
     },
     "output_type": "display_data"
    }
   ],
   "source": [
    "#Assessing the ratio of males to females by scholarship benefits that showed up for their appointment\n",
    "\n",
    "sns.catplot(x=\"Scholarship\", y=\"Gender\", hue=\"No-show\", kind=\"bar\", data=df_appoint)"
   ]
  },
  {
   "cell_type": "markdown",
   "id": "94b92360",
   "metadata": {},
   "source": [
    "> This visualization confirms that females were more beneficiaries of the scholarship relative to their male counterparts. Interestingly, it also points out the females were the most present patients with regards to their appointments. \n",
    "\n",
    "> So, could it be that the scholarship benefits prompted more female patients to the hospital? This observation is inconclusive yet until a confirmatory analysis is performed using inferential statistics or machine learning algorithms."
   ]
  },
  {
   "cell_type": "code",
   "execution_count": 34,
   "id": "d6194390",
   "metadata": {},
   "outputs": [
    {
     "data": {
      "text/plain": [
       "<seaborn.axisgrid.FacetGrid at 0x2b1290e9e80>"
      ]
     },
     "execution_count": 34,
     "metadata": {},
     "output_type": "execute_result"
    },
    {
     "data": {
      "image/png": "[encoded data removed]",
      "text/plain": [
       "<Figure size 421.25x360 with 1 Axes>"
      ]
     },
     "metadata": {
      "needs_background": "light"
     },
     "output_type": "display_data"
    }
   ],
   "source": [
    "#Assessing the age bracket by scholarship benefits that showed up for their appointment\n",
    "\n",
    "sns.catplot(x=\"Scholarship\", y=\"Age\", hue=\"No-show\", kind=\"bar\", data=df_appoint)"
   ]
  },
  {
   "cell_type": "markdown",
   "id": "74d68301",
   "metadata": {},
   "source": [
    "> This visualization provides deeper insights and leaves us with more questions for inferential analysis.\n",
    "\n",
    "> From observation, under the category that did not receive scholarship (showed as \"false\" in the x-axis), we can clearly see that there were patients between age 0 and approx. 37 that showed up for their appointment (denoted in orange), while some of their counterparts between 0 and 35 years did not show up. The age difference is not big enough to make a conclusive statement yet.\n",
    "\n",
    "> Furthermore, under the category of those that received scholarships (showed as \"true\" in the x-axis), we can also see that some patients from approx. 30 years and below showed up their appointment, while some of their counterparts between approx. 32 years and below failed to show.\n",
    "\n",
    "> The relationship between age, scholarship benefits and attendance to the patients' scheduled appointment is not clear. Hence, there is need to further explore these features in future analysis."
   ]
  },
  {
   "cell_type": "markdown",
   "id": "9de8707d",
   "metadata": {},
   "source": [
    "### 3. Did the disease type influence patients to show up for appointment?"
   ]
  },
  {
   "cell_type": "code",
   "execution_count": 35,
   "id": "ecbb9578",
   "metadata": {},
   "outputs": [
    {
     "name": "stderr",
     "output_type": "stream",
     "text": [
      "C:\\Users\\LENOVO\\anaconda3\\envs\\ucpy3.6\\lib\\site-packages\\seaborn\\_decorators.py:43: FutureWarning: Pass the following variable as a keyword arg: x. From version 0.12, the only valid positional argument will be `data`, and passing other arguments without an explicit keyword will result in an error or misinterpretation.\n",
      "  FutureWarning\n",
      "C:\\Users\\LENOVO\\anaconda3\\envs\\ucpy3.6\\lib\\site-packages\\seaborn\\_decorators.py:43: FutureWarning: Pass the following variable as a keyword arg: x. From version 0.12, the only valid positional argument will be `data`, and passing other arguments without an explicit keyword will result in an error or misinterpretation.\n",
      "  FutureWarning\n",
      "C:\\Users\\LENOVO\\anaconda3\\envs\\ucpy3.6\\lib\\site-packages\\seaborn\\_decorators.py:43: FutureWarning: Pass the following variable as a keyword arg: x. From version 0.12, the only valid positional argument will be `data`, and passing other arguments without an explicit keyword will result in an error or misinterpretation.\n",
      "  FutureWarning\n",
      "C:\\Users\\LENOVO\\anaconda3\\envs\\ucpy3.6\\lib\\site-packages\\seaborn\\_decorators.py:43: FutureWarning: Pass the following variable as a keyword arg: x. From version 0.12, the only valid positional argument will be `data`, and passing other arguments without an explicit keyword will result in an error or misinterpretation.\n",
      "  FutureWarning\n"
     ]
    },
    {
     "data": {
      "text/plain": [
       "<AxesSubplot:xlabel='Handcap', ylabel='count'>"
      ]
     },
     "execution_count": 35,
     "metadata": {},
     "output_type": "execute_result"
    },
    {
     "data": {
      "image/png": "[encoded data removed]",
      "text/plain": [
       "<Figure size 1440x720 with 1 Axes>"
      ]
     },
     "metadata": {
      "needs_background": "light"
     },
     "output_type": "display_data"
    },
    {
     "data": {
      "image/png": "[encoded data removed]",
      "text/plain": [
       "<Figure size 1440x720 with 1 Axes>"
      ]
     },
     "metadata": {
      "needs_background": "light"
     },
     "output_type": "display_data"
    },
    {
     "data": {
      "image/png": "[encoded data removed]",
      "text/plain": [
       "<Figure size 1440x720 with 1 Axes>"
      ]
     },
     "metadata": {
      "needs_background": "light"
     },
     "output_type": "display_data"
    },
    {
     "data": {
      "image/png": "[encoded data removed]",
      "text/plain": [
       "<Figure size 1440x720 with 1 Axes>"
      ]
     },
     "metadata": {
      "needs_background": "light"
     },
     "output_type": "display_data"
    }
   ],
   "source": [
    "#Assessing the number of patients that showed up based on their disease type\n",
    "\n",
    "#Hipertensiion\n",
    "plt.figure(figsize=(20,10))\n",
    "plt.subplot(2,2,1)\n",
    "sns.countplot('Hipertension', hue='No-show', data=df_appoint)\n",
    "\n",
    "#Diabetes\n",
    "plt.figure(figsize=(20,10))\n",
    "plt.subplot(2,2,2)\n",
    "sns.countplot('Diabetes', hue='No-show', data=df_appoint)\n",
    "\n",
    "#Alcoholism\n",
    "plt.figure(figsize=(20,10))\n",
    "plt.subplot(2,2,3)\n",
    "sns.countplot('Alcoholism', hue='No-show', data=df_appoint)\n",
    "\n",
    "#Handcap\n",
    "plt.figure(figsize=(20,10))\n",
    "plt.subplot(2,2,4)\n",
    "sns.countplot('Handcap', hue='No-show', data=df_appoint)"
   ]
  },
  {
   "cell_type": "markdown",
   "id": "311b143b",
   "metadata": {},
   "source": [
    "> This shows that attendance to the scheduled appointment was not dependent on the disease types. Generally, most of the disease conditions reflected little attendance to their appointments.\n",
    "\n",
    "> However, let us further assess the prevalence of the disease types in the age and gender distribution."
   ]
  },
  {
   "cell_type": "code",
   "execution_count": 36,
   "id": "d79bb228",
   "metadata": {},
   "outputs": [],
   "source": [
    "#Creating the function to analyze the disease types\n",
    "\n",
    "def vplot( _x = '', _y = '', _hue = '', _kind = '', _df = ''):\n",
    "    sns.catplot(x= _x, y= _y, hue= _hue, kind = _kind, data = _df)"
   ]
  },
  {
   "cell_type": "code",
   "execution_count": 37,
   "id": "9dea3a9e",
   "metadata": {},
   "outputs": [
    {
     "data": {
      "image/png": "[encoded data removed]",
      "text/plain": [
       "<Figure size 404.875x360 with 1 Axes>"
      ]
     },
     "metadata": {
      "needs_background": "light"
     },
     "output_type": "display_data"
    },
    {
     "data": {
      "image/png": "[encoded data removed]",
      "text/plain": [
       "<Figure size 404.875x360 with 1 Axes>"
      ]
     },
     "metadata": {
      "needs_background": "light"
     },
     "output_type": "display_data"
    },
    {
     "data": {
      "image/png": "[encoded data removed]",
      "text/plain": [
       "<Figure size 404.875x360 with 1 Axes>"
      ]
     },
     "metadata": {
      "needs_background": "light"
     },
     "output_type": "display_data"
    },
    {
     "data": {
      "image/png": "[encoded data removed]",
      "text/plain": [
       "<Figure size 404.875x360 with 1 Axes>"
      ]
     },
     "metadata": {
      "needs_background": "light"
     },
     "output_type": "display_data"
    }
   ],
   "source": [
    "#Assessing the disease type by the age and gender distribution by calling the function\n",
    "\n",
    "_var = ['Hipertension', 'Diabetes', 'Alcoholism', 'Handcap']\n",
    "x = 0\n",
    "for r in _var:\n",
    "    vplot( _x = _var[x], _y = 'Age', _hue = 'Gender', _kind = 'box', _df = df_appoint)\n",
    "    x = x+1"
   ]
  },
  {
   "cell_type": "markdown",
   "id": "244988da",
   "metadata": {},
   "source": [
    "> This age and gender distribution in relation to the various disease types showed that the patients between middle and late adulthood were more susceptible and diagnosed of the various diseases, particularly the female patients. \n",
    "\n",
    "> However, the previous analysis showed that attendance to a scheduled doctor's appointment was not dependent on the disease conditions, as we observed little attendance even when the diseases were present."
   ]
  },
  {
   "cell_type": "markdown",
   "id": "28d699df",
   "metadata": {},
   "source": [
    "### 4. If true, which disease type influenced patients the most?\n",
    "\n",
    "> The previous analysis did not show any significant relationship between the patients' attendance to the doctor's appointment and the disease type. However, this is still tentative."
   ]
  },
  {
   "cell_type": "markdown",
   "id": "ba5d31cc",
   "metadata": {},
   "source": [
    "### 5. Did SMS improve on patients' attendance?"
   ]
  },
  {
   "cell_type": "code",
   "execution_count": 38,
   "id": "b54c57dd",
   "metadata": {},
   "outputs": [
    {
     "data": {
      "text/plain": [
       "False    75044\n",
       "True     35482\n",
       "Name: SMS_received, dtype: int64"
      ]
     },
     "execution_count": 38,
     "metadata": {},
     "output_type": "execute_result"
    }
   ],
   "source": [
    "#First, let us find out the total number of SMS received by the patients\n",
    "\n",
    "df_appoint['SMS_received'].value_counts()"
   ]
  },
  {
   "cell_type": "markdown",
   "id": "24dceb8d",
   "metadata": {},
   "source": [
    ">This means that a total of **35482** SMS were received by the patients"
   ]
  },
  {
   "cell_type": "code",
   "execution_count": 39,
   "id": "7d14f64d",
   "metadata": {},
   "outputs": [
    {
     "data": {
      "text/plain": [
       "Gender  SMS_received\n",
       "F       False           47637\n",
       "        True            24202\n",
       "M       False           27407\n",
       "        True            11280\n",
       "Name: SMS_received, dtype: int64"
      ]
     },
     "execution_count": 39,
     "metadata": {},
     "output_type": "execute_result"
    }
   ],
   "source": [
    "#Let us go further to find out how many SMS were received by each gender category\n",
    "\n",
    "df_appoint.groupby('Gender')['SMS_received'].value_counts()"
   ]
  },
  {
   "cell_type": "markdown",
   "id": "64ecf4da",
   "metadata": {},
   "source": [
    "> WOW!!! From the analysis, we can clearly see that more female patients (**24202**) received more SMS than their male (**11280**) counterparts. So, could this account for why we have more females in attendance? Or, could it be as a result of the disproportionate ratio of females to males in the distribution? Whatever the reason might be, we cannot tell for sure until an inferential analysis is conducted to ascertain if the difference between the ratio of female to male is significant."
   ]
  },
  {
   "cell_type": "code",
   "execution_count": 40,
   "id": "15dc9658",
   "metadata": {},
   "outputs": [
    {
     "data": {
      "text/plain": [
       "Text(0, 0.5, 'Number of recipients')"
      ]
     },
     "execution_count": 40,
     "metadata": {},
     "output_type": "execute_result"
    },
    {
     "data": {
      "image/png": "[encoded data removed]",
      "text/plain": [
       "<Figure size 432x288 with 1 Axes>"
      ]
     },
     "metadata": {
      "needs_background": "light"
     },
     "output_type": "display_data"
    }
   ],
   "source": [
    "#Let us have a visualization of the information above.\n",
    "\n",
    "colors = ['orange', 'black']\n",
    "sms = df_appoint.groupby('Gender')['SMS_received'].value_counts()\n",
    "sms.plot(kind='bar', title='SMS recipients by Gender', color=colors, alpha=.7);\n",
    "plt.xlabel('SMS_received', fontsize=18)\n",
    "plt.ylabel('Number of recipients', fontsize=18)"
   ]
  },
  {
   "cell_type": "markdown",
   "id": "4222148d",
   "metadata": {},
   "source": [
    "> In above visualization, we can clearly observe the number of recipients for both male and female patients that received the SMS."
   ]
  },
  {
   "cell_type": "code",
   "execution_count": 41,
   "id": "3190a904",
   "metadata": {},
   "outputs": [
    {
     "data": {
      "text/plain": [
       "<seaborn.axisgrid.FacetGrid at 0x2b129cef3c8>"
      ]
     },
     "execution_count": 41,
     "metadata": {},
     "output_type": "execute_result"
    },
    {
     "data": {
      "image/png": "[encoded data removed]",
      "text/plain": [
       "<Figure size 421.25x360 with 1 Axes>"
      ]
     },
     "metadata": {
      "needs_background": "light"
     },
     "output_type": "display_data"
    }
   ],
   "source": [
    "#Let us assess the age distribution of the patients that received SMS and how it influenced their attendance to the appointment\n",
    "\n",
    "sns.catplot(x=\"SMS_received\", y=\"Age\", hue=\"No-show\", kind=\"box\", data=df_appoint)"
   ]
  },
  {
   "cell_type": "markdown",
   "id": "471945fc",
   "metadata": {},
   "source": [
    "> This visualization shows that patients that received SMS majorly fell within the age category between 20 and 60 years. However, from this category, those that showed up for their appointment fell within 20 and 58 years (denoted in blue on the right side of the boxplot), although some of their counterparts in the same category did not show up for their appointment."
   ]
  },
  {
   "cell_type": "code",
   "execution_count": 42,
   "id": "390b6d39",
   "metadata": {},
   "outputs": [
    {
     "name": "stderr",
     "output_type": "stream",
     "text": [
      "C:\\Users\\LENOVO\\anaconda3\\envs\\ucpy3.6\\lib\\site-packages\\seaborn\\_decorators.py:43: FutureWarning: Pass the following variable as a keyword arg: x. From version 0.12, the only valid positional argument will be `data`, and passing other arguments without an explicit keyword will result in an error or misinterpretation.\n",
      "  FutureWarning\n"
     ]
    },
    {
     "data": {
      "text/plain": [
       "<AxesSubplot:xlabel='SMS_received', ylabel='count'>"
      ]
     },
     "execution_count": 42,
     "metadata": {},
     "output_type": "execute_result"
    },
    {
     "data": {
      "image/png": "[encoded data removed]",
      "text/plain": [
       "<Figure size 720x360 with 1 Axes>"
      ]
     },
     "metadata": {
      "needs_background": "light"
     },
     "output_type": "display_data"
    }
   ],
   "source": [
    "#Examining the impact of the SMS on their turnup\n",
    "\n",
    "plt.figure(figsize=(10,5))\n",
    "plt.subplot(1,2,1)\n",
    "sns.countplot('SMS_received', hue='No-show', data=df_appoint)"
   ]
  },
  {
   "cell_type": "markdown",
   "id": "aa7d7953",
   "metadata": {},
   "source": [
    "> This visualization shows that the patients' attendance to their appointment may be dependent on the SMS received. This is because there are fewer patients that received SMS compared to the patients that did not receive. Perhaps, many of the absentees forgot about their appointment on failure to receive an SMS.\n",
    "\n",
    "> Additionally, previous analysis showed more female patients received SMS compared to the male patients. Hence, from the visualization above, I wish to speculate that the number of patients that showed up could consist mainly of women. However, this is subject to further investigation, as the current data limits such studies."
   ]
  },
  {
   "cell_type": "markdown",
   "id": "05d053d5",
   "metadata": {},
   "source": [
    "### 6. What is the relationship between the age, gender, and attendance to doctor's appointment?"
   ]
  },
  {
   "cell_type": "code",
   "execution_count": 43,
   "id": "7e757a5a",
   "metadata": {},
   "outputs": [
    {
     "data": {
      "image/png": "[encoded data removed]",
      "text/plain": [
       "<Figure size 432x288 with 1 Axes>"
      ]
     },
     "metadata": {
      "needs_background": "light"
     },
     "output_type": "display_data"
    }
   ],
   "source": [
    "#Analysing the age and gender distribution in relation to their attendence to the doctor's appointment\n",
    "\n",
    "sns.boxplot(x = 'Gender', y = 'Age', hue=\"No-show\", data = df_appoint)\n",
    "plt.title(\"Gender category by Age\")\n",
    "plt.show()"
   ]
  },
  {
   "cell_type": "markdown",
   "id": "5dc58cc5",
   "metadata": {},
   "source": [
    "> The visualization shows that most of the female patients that showed up for their appointment fell within the age category of 20 and 5o years, whereas those that did not show up also fell at a closer range between 22 and 58 years. Overall, there are more older female patients that showed up compared to the males.\n",
    "\n",
    "> The male patients that showed up for their appointment fell within age category of 16 and 50 years, whereas those that did not show up fell within the age category of 16 and 54 years.\n",
    "\n",
    "> Hence, we can see that patients of the younger demographic, including adolescents, early and middle adulthood, consisted of the majority of patients that visited the hospital for the doctor's appointment. "
   ]
  },
  {
   "cell_type": "markdown",
   "id": "7ac97e78",
   "metadata": {},
   "source": [
    "<a id='conclusions'></a>\n",
    "## Conclusion\n",
    "> 1. Originally, the dataset contained a total **110527** rows and **14** columns with neither any missing nor duplicated value. However, after dropping some columns, the dataset contains **110526** rows and **13** columns. \n",
    "\n",
    "> **Note:** The mean age of the patients in the dataset is 37 years.\n",
    "\n",
    "> 2. Analysis showed that the dataset contains details on 71839 female patients and 38687 male patients. Hence, we can assert that there were more female patients than males scheduled for a doctor's appointment in March 2016. And this disporportionate ratio of female to male in the month may likely affect the outcome of the analysis. Hence, there is need for further inferential analysis to ascertain the significant difference in the ratio and consequentially reflect the reliability of the findings.\n",
    "\n",
    "> 3. Analysis also revealed that the females fall within a broader age bracket ranging between 22 and 58 years with an outlier above 100 years, whereas the males are densely sparsed around 16 and 57 years.\n",
    "\n",
    "> 4. In the analysis, there were more female patients that showed up for the doctor's appointment compared to the males. However, this observation remains tentative until confirmed using inferential statistics and machine learning, considering the disproportionate ratio of the female and male patients in March 2016.\n",
    "\n",
    "> 5. Furthermore, 10861 patients received scholarship while 99665 patients did not receive, meaning that a smaller percentage of the entire patients for the month were beneficiaries of the scholarship given by the government. Among these beneficiaries, a higher percentage consisted mainly of the female patients. However, this may be attributed to the disproportionate ratio of female to male in the month. Hence, no conclusion has been made regarding this fact.\n",
    "\n",
    "> 6. Following the assessment of the relationship between the patients' age, scholarship benefit and attendance to the scheduled appointment, there is no clear relationship between the variables. Hence, there is need to further explore this area using other instruments or approach.\n",
    "\n",
    "> 7. Analysis showed that attendance to the doctor's appointment was not dependent on the disease types, as patients under most of the disease conditions reflected little attendance to their appointments.\n",
    "\n",
    "> 8. Further analysis on the age and gender distribution in relation to the various disease types showed that the patients between middle and late adulthood were more susceptible and diagnosed of the various diseases, particularly the female patients compared to their male counterparts.\n",
    "\n",
    "> 9. From the analysis, it was observed that a total of 35482 SMS' were received by the patients. The female patients (24202) received more SMS than their male (11280) counterparts. Meanwhile, the nature of the dataset limited the analysis from properly matching the gender with the attendance of the patients in relation to those that received the SMS. However, those that received SMS majorly fell within the age category between 20 and 60 years. And from this category, those that showed up for their appointment fell within 20 and 58 years (denoted in blue on the right side of the boxplot), although some of their counterparts in the same category did not show up for their appointment.\n",
    "\n",
    "> Conclusively, we may speculate that patients' attendance to their appointment may be dependent on the SMS received. This is because fewer patients received SMS compared to the patients that did not receive. Hence, we can assume that most of the absentees forgot about their appointment on failure to receive an SMS. Also, as much as these discoveries sheds so much light about some trends in the data with regards to the highest attendance by the females, however the findings remain inconclusive until an inferential analysis is conducted to confirm the results that SMS improved the attendance of the female patients."
   ]
  },
  {
   "cell_type": "markdown",
   "id": "b68fb3af",
   "metadata": {},
   "source": [
    "> ## List of sources\n",
    "\n",
    "> 1. https://mode.com/python-tutorial/counting-and-plotting-in-python/\n",
    "> 2. https://www.statology.org/pandas-unique-values-in-column/\n",
    "> 3. https://medium.com/dunder-data/select-a-single-column-of-a-pandas-dataframe-with-the-brackets-and-not-dot-notation-a5ec981cbae6\n",
    "> 4. https://www.geeksforgeeks.org/how-to-select-single-column-of-a-pandas-dataframe/\n",
    "> 5. https://datascienceparichay.com/article/pandas-get-all-unique-values-in-a-column/\n",
    "> 6. https://pandas.pydata.org/docs/user_guide/categorical.html\n",
    "> 7. https://itsmycode.com/positional-argument-follows-keyword-argument/#:~:text=In%20Python%2C%20the%20SyntaxError%3A%20positional,the%20keyword%20arguments%20as%20next.\n",
    "> 8. https://stackoverflow.com/questions/48238305/bar-plot-with-groupby\n",
    "> 9. https://www.statology.org/pandas-groupby-plot/\n",
    "> 10. https://seaborn.pydata.org/tutorial/categorical.html\n",
    "> 11. https://seaborn.pydata.org/generated/seaborn.countplot.html\n",
    "> 12. https://www.geeksforgeeks.org/how-to-select-multiple-columns-in-a-pandas-dataframe/\n",
    "> 13. https://towardsdatascience.com/understanding-boxplots-5e2df7bcbd51\n",
    "> 14. https://seaborn.pydata.org/generated/seaborn.boxplot.html\n",
    "> 15. https://matplotlib.org/stable/api/_as_gen/matplotlib.pyplot.legend.html\n",
    "> 16. https://www.youtube.com/watch?v=4DnWYK88-E4\n",
    "    "
   ]
  }
 ],
 "metadata": {
  "kernelspec": {
   "display_name": "Python [conda env:ucpy3.6] *",
   "language": "python",
   "name": "conda-env-ucpy3.6-py"
  },
  "language_info": {
   "codemirror_mode": {
    "name": "ipython",
    "version": 3
   },
   "file_extension": ".py",
   "mimetype": "text/x-python",
   "name": "python",
   "nbconvert_exporter": "python",
   "pygments_lexer": "ipython3",
   "version": "3.6.13"
  }
 },
 "nbformat": 4,
 "nbformat_minor": 5
}
